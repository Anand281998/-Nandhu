{
 "cells": [
  {
   "cell_type": "code",
   "execution_count": 25,
   "metadata": {},
   "outputs": [],
   "source": [
    "# Importing the libraries\n",
    "import pandas as pd \n",
    "import numpy as np\n",
    "from sklearn.ensemble import GradientBoostingClassifier\n",
    "from sklearn.naive_bayes import GaussianNB\n",
    "from sklearn.cross_validation import  train_test_split\n",
    "from sklearn.preprocessing import LabelEncoder\n",
    "from sklearn.metrics import accuracy_score\n",
    "from sklearn.metrics import classification_report"
   ]
  },
  {
   "cell_type": "code",
   "execution_count": 26,
   "metadata": {},
   "outputs": [
    {
     "data": {
      "text/html": [
       "<div>\n",
       "<style scoped>\n",
       "    .dataframe tbody tr th:only-of-type {\n",
       "        vertical-align: middle;\n",
       "    }\n",
       "\n",
       "    .dataframe tbody tr th {\n",
       "        vertical-align: top;\n",
       "    }\n",
       "\n",
       "    .dataframe thead th {\n",
       "        text-align: right;\n",
       "    }\n",
       "</style>\n",
       "<table border=\"1\" class=\"dataframe\">\n",
       "  <thead>\n",
       "    <tr style=\"text-align: right;\">\n",
       "      <th></th>\n",
       "      <th>Current_Account</th>\n",
       "      <th>Duration_in_month</th>\n",
       "      <th>Credit_History</th>\n",
       "      <th>Purpose</th>\n",
       "      <th>Credit_Amount</th>\n",
       "      <th>Saving_Account</th>\n",
       "      <th>Present_Employment</th>\n",
       "      <th>Instalment_Rate</th>\n",
       "      <th>Status</th>\n",
       "      <th>Debtors</th>\n",
       "      <th>...</th>\n",
       "      <th>Property</th>\n",
       "      <th>Age</th>\n",
       "      <th>Installment_Plan</th>\n",
       "      <th>Housing</th>\n",
       "      <th>Credits_at_bank</th>\n",
       "      <th>Job</th>\n",
       "      <th>Maintenance</th>\n",
       "      <th>Telephone</th>\n",
       "      <th>Foreign_workers</th>\n",
       "      <th>Credit_Card_Approval</th>\n",
       "    </tr>\n",
       "  </thead>\n",
       "  <tbody>\n",
       "    <tr>\n",
       "      <th>0</th>\n",
       "      <td>A11</td>\n",
       "      <td>6</td>\n",
       "      <td>A34</td>\n",
       "      <td>A43</td>\n",
       "      <td>1169</td>\n",
       "      <td>A65</td>\n",
       "      <td>A75</td>\n",
       "      <td>4</td>\n",
       "      <td>A93</td>\n",
       "      <td>A101</td>\n",
       "      <td>...</td>\n",
       "      <td>A121</td>\n",
       "      <td>67</td>\n",
       "      <td>A143</td>\n",
       "      <td>A152</td>\n",
       "      <td>2</td>\n",
       "      <td>A173</td>\n",
       "      <td>1</td>\n",
       "      <td>A192</td>\n",
       "      <td>A201</td>\n",
       "      <td>1</td>\n",
       "    </tr>\n",
       "  </tbody>\n",
       "</table>\n",
       "<p>1 rows × 21 columns</p>\n",
       "</div>"
      ],
      "text/plain": [
       "  Current_Account  Duration_in_month Credit_History Purpose  Credit_Amount  \\\n",
       "0             A11                  6            A34     A43           1169   \n",
       "\n",
       "  Saving_Account Present_Employment  Instalment_Rate Status Debtors  \\\n",
       "0            A65                A75                4    A93    A101   \n",
       "\n",
       "          ...           Property Age  Installment_Plan Housing  \\\n",
       "0         ...               A121  67              A143    A152   \n",
       "\n",
       "  Credits_at_bank   Job Maintenance  Telephone Foreign_workers  \\\n",
       "0               2  A173           1       A192            A201   \n",
       "\n",
       "  Credit_Card_Approval  \n",
       "0                    1  \n",
       "\n",
       "[1 rows x 21 columns]"
      ]
     },
     "execution_count": 26,
     "metadata": {},
     "output_type": "execute_result"
    }
   ],
   "source": [
    "# Importing the dataset\n",
    "f =pd.read_csv('G:\\Data Sets\\germanCredit.data',delim_whitespace = True ,header = None)\n",
    "f.columns=['Current_Account' , 'Duration_in_month', 'Credit_History' , 'Purpose' , 'Credit_Amount' , 'Saving_Account', 'Present_Employment' , 'Instalment_Rate' , 'Status', 'Debtors', 'Residence','Property', 'Age', 'Installment_Plan', 'Housing' , 'Credits_at_bank', 'Job', 'Maintenance' , 'Telephone', 'Foreign_workers', 'Credit_Card_Approval']\n",
    "f.head(n=1)"
   ]
  },
  {
   "cell_type": "code",
   "execution_count": 27,
   "metadata": {},
   "outputs": [
    {
     "data": {
      "text/html": [
       "<div>\n",
       "<style scoped>\n",
       "    .dataframe tbody tr th:only-of-type {\n",
       "        vertical-align: middle;\n",
       "    }\n",
       "\n",
       "    .dataframe tbody tr th {\n",
       "        vertical-align: top;\n",
       "    }\n",
       "\n",
       "    .dataframe thead th {\n",
       "        text-align: right;\n",
       "    }\n",
       "</style>\n",
       "<table border=\"1\" class=\"dataframe\">\n",
       "  <thead>\n",
       "    <tr style=\"text-align: right;\">\n",
       "      <th></th>\n",
       "      <th>Duration_in_month</th>\n",
       "      <th>Credit_Amount</th>\n",
       "      <th>Instalment_Rate</th>\n",
       "      <th>Residence</th>\n",
       "      <th>Age</th>\n",
       "      <th>Credits_at_bank</th>\n",
       "      <th>Maintenance</th>\n",
       "      <th>Credit_Card_Approval</th>\n",
       "    </tr>\n",
       "  </thead>\n",
       "  <tbody>\n",
       "    <tr>\n",
       "      <th>count</th>\n",
       "      <td>1000.000000</td>\n",
       "      <td>1000.000000</td>\n",
       "      <td>1000.000000</td>\n",
       "      <td>1000.000000</td>\n",
       "      <td>1000.000000</td>\n",
       "      <td>1000.000000</td>\n",
       "      <td>1000.000000</td>\n",
       "      <td>1000.000000</td>\n",
       "    </tr>\n",
       "    <tr>\n",
       "      <th>mean</th>\n",
       "      <td>20.903000</td>\n",
       "      <td>3271.258000</td>\n",
       "      <td>2.973000</td>\n",
       "      <td>2.845000</td>\n",
       "      <td>35.546000</td>\n",
       "      <td>1.407000</td>\n",
       "      <td>1.155000</td>\n",
       "      <td>1.300000</td>\n",
       "    </tr>\n",
       "    <tr>\n",
       "      <th>std</th>\n",
       "      <td>12.058814</td>\n",
       "      <td>2822.736876</td>\n",
       "      <td>1.118715</td>\n",
       "      <td>1.103718</td>\n",
       "      <td>11.375469</td>\n",
       "      <td>0.577654</td>\n",
       "      <td>0.362086</td>\n",
       "      <td>0.458487</td>\n",
       "    </tr>\n",
       "    <tr>\n",
       "      <th>min</th>\n",
       "      <td>4.000000</td>\n",
       "      <td>250.000000</td>\n",
       "      <td>1.000000</td>\n",
       "      <td>1.000000</td>\n",
       "      <td>19.000000</td>\n",
       "      <td>1.000000</td>\n",
       "      <td>1.000000</td>\n",
       "      <td>1.000000</td>\n",
       "    </tr>\n",
       "    <tr>\n",
       "      <th>25%</th>\n",
       "      <td>12.000000</td>\n",
       "      <td>1365.500000</td>\n",
       "      <td>2.000000</td>\n",
       "      <td>2.000000</td>\n",
       "      <td>27.000000</td>\n",
       "      <td>1.000000</td>\n",
       "      <td>1.000000</td>\n",
       "      <td>1.000000</td>\n",
       "    </tr>\n",
       "    <tr>\n",
       "      <th>50%</th>\n",
       "      <td>18.000000</td>\n",
       "      <td>2319.500000</td>\n",
       "      <td>3.000000</td>\n",
       "      <td>3.000000</td>\n",
       "      <td>33.000000</td>\n",
       "      <td>1.000000</td>\n",
       "      <td>1.000000</td>\n",
       "      <td>1.000000</td>\n",
       "    </tr>\n",
       "    <tr>\n",
       "      <th>75%</th>\n",
       "      <td>24.000000</td>\n",
       "      <td>3972.250000</td>\n",
       "      <td>4.000000</td>\n",
       "      <td>4.000000</td>\n",
       "      <td>42.000000</td>\n",
       "      <td>2.000000</td>\n",
       "      <td>1.000000</td>\n",
       "      <td>2.000000</td>\n",
       "    </tr>\n",
       "    <tr>\n",
       "      <th>max</th>\n",
       "      <td>72.000000</td>\n",
       "      <td>18424.000000</td>\n",
       "      <td>4.000000</td>\n",
       "      <td>4.000000</td>\n",
       "      <td>75.000000</td>\n",
       "      <td>4.000000</td>\n",
       "      <td>2.000000</td>\n",
       "      <td>2.000000</td>\n",
       "    </tr>\n",
       "  </tbody>\n",
       "</table>\n",
       "</div>"
      ],
      "text/plain": [
       "       Duration_in_month  Credit_Amount  Instalment_Rate    Residence  \\\n",
       "count        1000.000000    1000.000000      1000.000000  1000.000000   \n",
       "mean           20.903000    3271.258000         2.973000     2.845000   \n",
       "std            12.058814    2822.736876         1.118715     1.103718   \n",
       "min             4.000000     250.000000         1.000000     1.000000   \n",
       "25%            12.000000    1365.500000         2.000000     2.000000   \n",
       "50%            18.000000    2319.500000         3.000000     3.000000   \n",
       "75%            24.000000    3972.250000         4.000000     4.000000   \n",
       "max            72.000000   18424.000000         4.000000     4.000000   \n",
       "\n",
       "               Age  Credits_at_bank  Maintenance  Credit_Card_Approval  \n",
       "count  1000.000000      1000.000000  1000.000000           1000.000000  \n",
       "mean     35.546000         1.407000     1.155000              1.300000  \n",
       "std      11.375469         0.577654     0.362086              0.458487  \n",
       "min      19.000000         1.000000     1.000000              1.000000  \n",
       "25%      27.000000         1.000000     1.000000              1.000000  \n",
       "50%      33.000000         1.000000     1.000000              1.000000  \n",
       "75%      42.000000         2.000000     1.000000              2.000000  \n",
       "max      75.000000         4.000000     2.000000              2.000000  "
      ]
     },
     "execution_count": 27,
     "metadata": {},
     "output_type": "execute_result"
    }
   ],
   "source": [
    "# Describing the data\n",
    "f.describe()"
   ]
  },
  {
   "cell_type": "code",
   "execution_count": 28,
   "metadata": {},
   "outputs": [
    {
     "name": "stdout",
     "output_type": "stream",
     "text": [
      "<class 'pandas.core.frame.DataFrame'>\n",
      "RangeIndex: 1000 entries, 0 to 999\n",
      "Data columns (total 21 columns):\n",
      "Current_Account         1000 non-null object\n",
      "Duration_in_month       1000 non-null int64\n",
      "Credit_History          1000 non-null object\n",
      "Purpose                 1000 non-null object\n",
      "Credit_Amount           1000 non-null int64\n",
      "Saving_Account          1000 non-null object\n",
      "Present_Employment      1000 non-null object\n",
      "Instalment_Rate         1000 non-null int64\n",
      "Status                  1000 non-null object\n",
      "Debtors                 1000 non-null object\n",
      "Residence               1000 non-null int64\n",
      "Property                1000 non-null object\n",
      "Age                     1000 non-null int64\n",
      "Installment_Plan        1000 non-null object\n",
      "Housing                 1000 non-null object\n",
      "Credits_at_bank         1000 non-null int64\n",
      "Job                     1000 non-null object\n",
      "Maintenance             1000 non-null int64\n",
      "Telephone               1000 non-null object\n",
      "Foreign_workers         1000 non-null object\n",
      "Credit_Card_Approval    1000 non-null int64\n",
      "dtypes: int64(8), object(13)\n",
      "memory usage: 164.1+ KB\n"
     ]
    }
   ],
   "source": [
    "#info of the data\n",
    "f.info()"
   ]
  },
  {
   "cell_type": "code",
   "execution_count": 29,
   "metadata": {},
   "outputs": [
    {
     "data": {
      "text/html": [
       "<div>\n",
       "<style scoped>\n",
       "    .dataframe tbody tr th:only-of-type {\n",
       "        vertical-align: middle;\n",
       "    }\n",
       "\n",
       "    .dataframe tbody tr th {\n",
       "        vertical-align: top;\n",
       "    }\n",
       "\n",
       "    .dataframe thead th {\n",
       "        text-align: right;\n",
       "    }\n",
       "</style>\n",
       "<table border=\"1\" class=\"dataframe\">\n",
       "  <thead>\n",
       "    <tr style=\"text-align: right;\">\n",
       "      <th></th>\n",
       "      <th>Duration_in_month</th>\n",
       "      <th>Credit_Amount</th>\n",
       "      <th>Instalment_Rate</th>\n",
       "      <th>Residence</th>\n",
       "      <th>Age</th>\n",
       "      <th>Credits_at_bank</th>\n",
       "      <th>Maintenance</th>\n",
       "      <th>Credit_Card_Approval</th>\n",
       "    </tr>\n",
       "  </thead>\n",
       "  <tbody>\n",
       "    <tr>\n",
       "      <th>Duration_in_month</th>\n",
       "      <td>1.000000</td>\n",
       "      <td>0.624984</td>\n",
       "      <td>0.074749</td>\n",
       "      <td>0.034067</td>\n",
       "      <td>-0.036136</td>\n",
       "      <td>-0.011284</td>\n",
       "      <td>-0.023834</td>\n",
       "      <td>0.214927</td>\n",
       "    </tr>\n",
       "    <tr>\n",
       "      <th>Credit_Amount</th>\n",
       "      <td>0.624984</td>\n",
       "      <td>1.000000</td>\n",
       "      <td>-0.271316</td>\n",
       "      <td>0.028926</td>\n",
       "      <td>0.032716</td>\n",
       "      <td>0.020795</td>\n",
       "      <td>0.017142</td>\n",
       "      <td>0.154739</td>\n",
       "    </tr>\n",
       "    <tr>\n",
       "      <th>Instalment_Rate</th>\n",
       "      <td>0.074749</td>\n",
       "      <td>-0.271316</td>\n",
       "      <td>1.000000</td>\n",
       "      <td>0.049302</td>\n",
       "      <td>0.058266</td>\n",
       "      <td>0.021669</td>\n",
       "      <td>-0.071207</td>\n",
       "      <td>0.072404</td>\n",
       "    </tr>\n",
       "    <tr>\n",
       "      <th>Residence</th>\n",
       "      <td>0.034067</td>\n",
       "      <td>0.028926</td>\n",
       "      <td>0.049302</td>\n",
       "      <td>1.000000</td>\n",
       "      <td>0.266419</td>\n",
       "      <td>0.089625</td>\n",
       "      <td>0.042643</td>\n",
       "      <td>0.002967</td>\n",
       "    </tr>\n",
       "    <tr>\n",
       "      <th>Age</th>\n",
       "      <td>-0.036136</td>\n",
       "      <td>0.032716</td>\n",
       "      <td>0.058266</td>\n",
       "      <td>0.266419</td>\n",
       "      <td>1.000000</td>\n",
       "      <td>0.149254</td>\n",
       "      <td>0.118201</td>\n",
       "      <td>-0.091127</td>\n",
       "    </tr>\n",
       "    <tr>\n",
       "      <th>Credits_at_bank</th>\n",
       "      <td>-0.011284</td>\n",
       "      <td>0.020795</td>\n",
       "      <td>0.021669</td>\n",
       "      <td>0.089625</td>\n",
       "      <td>0.149254</td>\n",
       "      <td>1.000000</td>\n",
       "      <td>0.109667</td>\n",
       "      <td>-0.045732</td>\n",
       "    </tr>\n",
       "    <tr>\n",
       "      <th>Maintenance</th>\n",
       "      <td>-0.023834</td>\n",
       "      <td>0.017142</td>\n",
       "      <td>-0.071207</td>\n",
       "      <td>0.042643</td>\n",
       "      <td>0.118201</td>\n",
       "      <td>0.109667</td>\n",
       "      <td>1.000000</td>\n",
       "      <td>-0.003015</td>\n",
       "    </tr>\n",
       "    <tr>\n",
       "      <th>Credit_Card_Approval</th>\n",
       "      <td>0.214927</td>\n",
       "      <td>0.154739</td>\n",
       "      <td>0.072404</td>\n",
       "      <td>0.002967</td>\n",
       "      <td>-0.091127</td>\n",
       "      <td>-0.045732</td>\n",
       "      <td>-0.003015</td>\n",
       "      <td>1.000000</td>\n",
       "    </tr>\n",
       "  </tbody>\n",
       "</table>\n",
       "</div>"
      ],
      "text/plain": [
       "                      Duration_in_month  Credit_Amount  Instalment_Rate  \\\n",
       "Duration_in_month              1.000000       0.624984         0.074749   \n",
       "Credit_Amount                  0.624984       1.000000        -0.271316   \n",
       "Instalment_Rate                0.074749      -0.271316         1.000000   \n",
       "Residence                      0.034067       0.028926         0.049302   \n",
       "Age                           -0.036136       0.032716         0.058266   \n",
       "Credits_at_bank               -0.011284       0.020795         0.021669   \n",
       "Maintenance                   -0.023834       0.017142        -0.071207   \n",
       "Credit_Card_Approval           0.214927       0.154739         0.072404   \n",
       "\n",
       "                      Residence       Age  Credits_at_bank  Maintenance  \\\n",
       "Duration_in_month      0.034067 -0.036136        -0.011284    -0.023834   \n",
       "Credit_Amount          0.028926  0.032716         0.020795     0.017142   \n",
       "Instalment_Rate        0.049302  0.058266         0.021669    -0.071207   \n",
       "Residence              1.000000  0.266419         0.089625     0.042643   \n",
       "Age                    0.266419  1.000000         0.149254     0.118201   \n",
       "Credits_at_bank        0.089625  0.149254         1.000000     0.109667   \n",
       "Maintenance            0.042643  0.118201         0.109667     1.000000   \n",
       "Credit_Card_Approval   0.002967 -0.091127        -0.045732    -0.003015   \n",
       "\n",
       "                      Credit_Card_Approval  \n",
       "Duration_in_month                 0.214927  \n",
       "Credit_Amount                     0.154739  \n",
       "Instalment_Rate                   0.072404  \n",
       "Residence                         0.002967  \n",
       "Age                              -0.091127  \n",
       "Credits_at_bank                  -0.045732  \n",
       "Maintenance                      -0.003015  \n",
       "Credit_Card_Approval              1.000000  "
      ]
     },
     "execution_count": 29,
     "metadata": {},
     "output_type": "execute_result"
    }
   ],
   "source": [
    "#Corelation between the attributes\n",
    "f.corr(method = 'pearson')"
   ]
  },
  {
   "cell_type": "code",
   "execution_count": 30,
   "metadata": {},
   "outputs": [
    {
     "data": {
      "text/plain": [
       "array([['A12', 48, 'A32', 'A43', 5951, 'A61', 'A73', 2, 'A92', 'A101', 2,\n",
       "        'A121', 22, 'A143', 'A152', 1, 'A173', 1, 'A191', 'A201', 2]],\n",
       "      dtype=object)"
      ]
     },
     "execution_count": 30,
     "metadata": {},
     "output_type": "execute_result"
    }
   ],
   "source": [
    "# Dividing the data into Feature and Label\n",
    "x=f.iloc[:,:21].values\n",
    "x[1:2]"
   ]
  },
  {
   "cell_type": "code",
   "execution_count": 31,
   "metadata": {},
   "outputs": [
    {
     "data": {
      "text/plain": [
       "array([[1, 48, 2, 4, 5951, 0, 2, 2, 1, 0, 2, 0, 22, 2, 1, 1, 2, 1, 0, 0,\n",
       "        2]], dtype=object)"
      ]
     },
     "execution_count": 31,
     "metadata": {},
     "output_type": "execute_result"
    }
   ],
   "source": [
    "# Converting the given data into binaryform using labelecoder\n",
    "le = LabelEncoder()\n",
    "x[:,0]= le.fit_transform(x[:,0])\n",
    "x[:,2]= le.fit_transform(x[:,2])\n",
    "x[:,3]= le.fit_transform(x[:,3])\n",
    "x[:,5]= le.fit_transform(x[:,5])\n",
    "x[:,6]= le.fit_transform(x[:,6])\n",
    "x[:,8]= le.fit_transform(x[:,8])\n",
    "x[:,9]= le.fit_transform(x[:,9])\n",
    "x[:,11]= le.fit_transform(x[:,11])\n",
    "x[:,13]= le.fit_transform(x[:,13])\n",
    "x[:,14]= le.fit_transform(x[:,14])\n",
    "x[:,16]= le.fit_transform(x[:,16])\n",
    "x[:,18]= le.fit_transform(x[:,18])\n",
    "x[:,19]= le.fit_transform(x[:,19])\n",
    "x[1:2]"
   ]
  },
  {
   "cell_type": "code",
   "execution_count": 32,
   "metadata": {},
   "outputs": [],
   "source": [
    "#Importing the data into feature variable and label variable\n",
    "X = x\n",
    "Y = f.Credit_Card_Approval"
   ]
  },
  {
   "cell_type": "code",
   "execution_count": 33,
   "metadata": {},
   "outputs": [],
   "source": [
    "# Splitting the given data\n",
    "x_train,x_test,y_train,y_test = train_test_split(X,Y,test_size = 0.3)"
   ]
  },
  {
   "cell_type": "code",
   "execution_count": 34,
   "metadata": {},
   "outputs": [
    {
     "name": "stdout",
     "output_type": "stream",
     "text": [
      "100.0\n"
     ]
    }
   ],
   "source": [
    "#calling the function and fitting the data [GRADIENT BOOSTING CLASSIFIER]\n",
    "gb = GradientBoostingClassifier()\n",
    "t = gb.fit(x_train,y_train)\n",
    "y_pred1 = gb.predict(x_test)\n",
    "print(accuracy_score(y_test , y_pred1)*100)"
   ]
  },
  {
   "cell_type": "code",
   "execution_count": 35,
   "metadata": {},
   "outputs": [],
   "source": [
    "#calling the function and fitting the data [NAIVE BAYES CLASSIFIER]\n",
    "xb = GaussianNB()\n",
    "t = xb.fit(x_train,y_train)"
   ]
  },
  {
   "cell_type": "code",
   "execution_count": 36,
   "metadata": {},
   "outputs": [
    {
     "name": "stdout",
     "output_type": "stream",
     "text": [
      "100.0\n"
     ]
    }
   ],
   "source": [
    "#Predicting the output\n",
    "y_pred = xb.predict(x_test)\n",
    "\n",
    "#Accuracy of the output\n",
    "print(accuracy_score(y_test,y_pred)*100)"
   ]
  },
  {
   "cell_type": "code",
   "execution_count": 37,
   "metadata": {},
   "outputs": [
    {
     "name": "stdout",
     "output_type": "stream",
     "text": [
      "             precision    recall  f1-score   support\n",
      "\n",
      "          1       1.00      1.00      1.00       223\n",
      "          2       1.00      1.00      1.00        77\n",
      "\n",
      "avg / total       1.00      1.00      1.00       300\n",
      "\n"
     ]
    }
   ],
   "source": [
    "print(classification_report(y_test,y_pred))"
   ]
  },
  {
   "cell_type": "code",
   "execution_count": 38,
   "metadata": {},
   "outputs": [
    {
     "name": "stdout",
     "output_type": "stream",
     "text": [
      "             precision    recall  f1-score   support\n",
      "\n",
      "          1       1.00      1.00      1.00       223\n",
      "          2       1.00      1.00      1.00        77\n",
      "\n",
      "avg / total       1.00      1.00      1.00       300\n",
      "\n"
     ]
    }
   ],
   "source": [
    "print(classification_report(y_test ,y_pred1))"
   ]
  }
 ],
 "metadata": {
  "kernelspec": {
   "display_name": "Python 3",
   "language": "python",
   "name": "python3"
  },
  "language_info": {
   "codemirror_mode": {
    "name": "ipython",
    "version": 3
   },
   "file_extension": ".py",
   "mimetype": "text/x-python",
   "name": "python",
   "nbconvert_exporter": "python",
   "pygments_lexer": "ipython3",
   "version": "3.6.4"
  }
 },
 "nbformat": 4,
 "nbformat_minor": 2
}
