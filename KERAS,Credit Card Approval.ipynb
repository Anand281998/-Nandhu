{
 "cells": [
  {
   "cell_type": "code",
   "execution_count": 32,
   "metadata": {},
   "outputs": [],
   "source": [
    "#importing libraries \n",
    "from keras.models import Sequential\n",
    "from keras.layers import Dense\n",
    "import pandas as pd\n",
    "import numpy as np\n",
    "from sklearn.model_selection import train_test_split\n",
    "from sklearn.preprocessing import LabelEncoder , OneHotEncoder\n",
    "from sklearn.metrics import accuracy_score\n"
   ]
  },
  {
   "cell_type": "code",
   "execution_count": 33,
   "metadata": {},
   "outputs": [
    {
     "data": {
      "text/html": [
       "<div>\n",
       "<style scoped>\n",
       "    .dataframe tbody tr th:only-of-type {\n",
       "        vertical-align: middle;\n",
       "    }\n",
       "\n",
       "    .dataframe tbody tr th {\n",
       "        vertical-align: top;\n",
       "    }\n",
       "\n",
       "    .dataframe thead th {\n",
       "        text-align: right;\n",
       "    }\n",
       "</style>\n",
       "<table border=\"1\" class=\"dataframe\">\n",
       "  <thead>\n",
       "    <tr style=\"text-align: right;\">\n",
       "      <th></th>\n",
       "      <th>Current_Account</th>\n",
       "      <th>Duration_in_month</th>\n",
       "      <th>Credit_History</th>\n",
       "      <th>Purpose</th>\n",
       "      <th>Credit_Amount</th>\n",
       "      <th>Saving_Account</th>\n",
       "      <th>Present_Employment</th>\n",
       "      <th>Instalment_Rate</th>\n",
       "      <th>Status</th>\n",
       "      <th>Debtors</th>\n",
       "      <th>...</th>\n",
       "      <th>Property</th>\n",
       "      <th>Age</th>\n",
       "      <th>Installment_Plan</th>\n",
       "      <th>Housing</th>\n",
       "      <th>Credits_at_bank</th>\n",
       "      <th>Job</th>\n",
       "      <th>Maintenance</th>\n",
       "      <th>Telephone</th>\n",
       "      <th>Foreign_workers</th>\n",
       "      <th>Fraud_not_Fraud</th>\n",
       "    </tr>\n",
       "  </thead>\n",
       "  <tbody>\n",
       "    <tr>\n",
       "      <th>0</th>\n",
       "      <td>A11</td>\n",
       "      <td>6</td>\n",
       "      <td>A34</td>\n",
       "      <td>A43</td>\n",
       "      <td>1169</td>\n",
       "      <td>A65</td>\n",
       "      <td>A75</td>\n",
       "      <td>4</td>\n",
       "      <td>A93</td>\n",
       "      <td>A101</td>\n",
       "      <td>...</td>\n",
       "      <td>A121</td>\n",
       "      <td>67</td>\n",
       "      <td>A143</td>\n",
       "      <td>A152</td>\n",
       "      <td>2</td>\n",
       "      <td>A173</td>\n",
       "      <td>1</td>\n",
       "      <td>A192</td>\n",
       "      <td>A201</td>\n",
       "      <td>1</td>\n",
       "    </tr>\n",
       "  </tbody>\n",
       "</table>\n",
       "<p>1 rows × 21 columns</p>\n",
       "</div>"
      ],
      "text/plain": [
       "  Current_Account  Duration_in_month Credit_History Purpose  Credit_Amount  \\\n",
       "0             A11                  6            A34     A43           1169   \n",
       "\n",
       "  Saving_Account Present_Employment  Instalment_Rate Status Debtors  \\\n",
       "0            A65                A75                4    A93    A101   \n",
       "\n",
       "        ...        Property Age  Installment_Plan Housing Credits_at_bank  \\\n",
       "0       ...            A121  67              A143    A152               2   \n",
       "\n",
       "    Job Maintenance  Telephone Foreign_workers Fraud_not_Fraud  \n",
       "0  A173           1       A192            A201               1  \n",
       "\n",
       "[1 rows x 21 columns]"
      ]
     },
     "execution_count": 33,
     "metadata": {},
     "output_type": "execute_result"
    }
   ],
   "source": [
    "# Importing the credit card approval dataset\n",
    "f =pd.read_csv('G:\\Data Sets\\germanCredit.data',delim_whitespace = True ,header = None)\n",
    "f.columns=['Current_Account' , 'Duration_in_month', 'Credit_History' , 'Purpose' , 'Credit_Amount' , 'Saving_Account', 'Present_Employment' , 'Instalment_Rate' , 'Status', 'Debtors', 'Residence','Property', 'Age', 'Installment_Plan', 'Housing' , 'Credits_at_bank', 'Job', 'Maintenance' , 'Telephone', 'Foreign_workers', 'Fraud_not_Fraud']\n",
    "f.head(n=1)"
   ]
  },
  {
   "cell_type": "code",
   "execution_count": 34,
   "metadata": {},
   "outputs": [
    {
     "data": {
      "text/plain": [
       "array([['A12', 48, 'A32', 'A43', 5951, 'A61', 'A73', 2, 'A92', 'A101', 2,\n",
       "        'A121', 22, 'A143', 'A152', 1, 'A173', 1, 'A191', 'A201']],\n",
       "      dtype=object)"
      ]
     },
     "execution_count": 34,
     "metadata": {},
     "output_type": "execute_result"
    }
   ],
   "source": [
    "# Assigning the feature date into variable\n",
    "x=f.iloc[:,:20].values\n",
    "x[1:2]"
   ]
  },
  {
   "cell_type": "code",
   "execution_count": 35,
   "metadata": {},
   "outputs": [
    {
     "data": {
      "text/plain": [
       "array([[1, 48, 2, 4, 5951, 0, 2, 2, 1, 0, 2, 0, 22, 2, 1, 1, 2, 1, 0, 0]],\n",
       "      dtype=object)"
      ]
     },
     "execution_count": 35,
     "metadata": {},
     "output_type": "execute_result"
    }
   ],
   "source": [
    "# converting the string data into binary data using LABELENCODER()\n",
    "le = LabelEncoder()\n",
    "x[:,0] = le.fit_transform(x[:,0])\n",
    "x[:,2]= le.fit_transform(x[:,2])\n",
    "x[:,3]= le.fit_transform(x[:,3])\n",
    "x[:,5]= le.fit_transform(x[:,5])\n",
    "x[:,6]= le.fit_transform(x[:,6])\n",
    "x[:,8]= le.fit_transform(x[:,8])\n",
    "x[:,9]= le.fit_transform(x[:,9])\n",
    "x[:,11]= le.fit_transform(x[:,11])\n",
    "x[:,13]= le.fit_transform(x[:,13])\n",
    "x[:,14]= le.fit_transform(x[:,14])\n",
    "x[:,16]= le.fit_transform(x[:,16])\n",
    "x[:,18]= le.fit_transform(x[:,18])\n",
    "x[:,19]= le.fit_transform(x[:,19])\n",
    "x[1:2]"
   ]
  },
  {
   "cell_type": "code",
   "execution_count": 36,
   "metadata": {},
   "outputs": [],
   "source": [
    "# Assigning the feature and label data into variables\n",
    "X = x\n",
    "Y = f.Fraud_not_Fraud"
   ]
  },
  {
   "cell_type": "code",
   "execution_count": 37,
   "metadata": {},
   "outputs": [],
   "source": [
    "# splitting the data into training and test\n",
    "x_train,x_test,y_train,y_test = train_test_split(X,Y,test_size = 0.3)"
   ]
  },
  {
   "cell_type": "code",
   "execution_count": 38,
   "metadata": {},
   "outputs": [],
   "source": [
    "# Calling the function\n",
    "classifier =Sequential()\n",
    "\n",
    "# creating the layer using dense with activation function\n",
    "layer_1 = classifier.add(Dense( 100, kernel_initializer = 'uniform', activation = 'relu', input_dim = 20))\n",
    "layer_2 = classifier.add(Dense( 50, kernel_initializer = 'uniform', activation = 'relu'))\n",
    "layer_3 = classifier.add(Dense( 20, kernel_initializer = 'uniform', activation = 'relu'))\n",
    "layer_4 = classifier.add(Dense( 10, kernel_initializer = 'uniform', activation = 'sigmoid'))\n",
    "output_layer = classifier.add(Dense( 1 , kernel_initializer = 'uniform', activation ='softmax'))"
   ]
  },
  {
   "cell_type": "code",
   "execution_count": 39,
   "metadata": {},
   "outputs": [],
   "source": [
    "# optimization of loss function using adam optimizer\n",
    "classifier.compile(optimizer = 'adam' , loss = 'binary_crossentropy',metrics =['accuracy'])"
   ]
  },
  {
   "cell_type": "code",
   "execution_count": 40,
   "metadata": {},
   "outputs": [
    {
     "name": "stdout",
     "output_type": "stream",
     "text": [
      "Epoch 1/100\n",
      "700/700 [==============================] - 29s 41ms/step - loss: -4.8510 - acc: 0.6957\n",
      "Epoch 2/100\n",
      "700/700 [==============================] - 0s 97us/step - loss: -4.8510 - acc: 0.6957\n",
      "Epoch 3/100\n",
      "400/700 [================>.............] - ETA: 0s - loss: -5.1016 - acc: 0.6800"
     ]
    },
    {
     "name": "stderr",
     "output_type": "stream",
     "text": [
      "C:\\Anaconda\\lib\\site-packages\\keras\\callbacks.py:120: UserWarning: Method on_batch_end() is slow compared to the batch update (0.126402). Check your callbacks.\n",
      "  % delta_t_median)\n"
     ]
    },
    {
     "name": "stdout",
     "output_type": "stream",
     "text": [
      "700/700 [==============================] - 0s 102us/step - loss: -4.8510 - acc: 0.6957\n",
      "Epoch 4/100\n",
      "700/700 [==============================] - 0s 48us/step - loss: -4.8510 - acc: 0.6957\n",
      "Epoch 5/100\n",
      "700/700 [==============================] - 0s 28us/step - loss: -4.8510 - acc: 0.6957\n",
      "Epoch 6/100\n",
      "700/700 [==============================] - 0s 24us/step - loss: -4.8510 - acc: 0.6957\n",
      "Epoch 7/100\n",
      "700/700 [==============================] - 0s 15us/step - loss: -4.8510 - acc: 0.6957\n",
      "Epoch 8/100\n",
      "700/700 [==============================] - 0s 29us/step - loss: -4.8510 - acc: 0.6957\n",
      "Epoch 9/100\n",
      "700/700 [==============================] - 0s 24us/step - loss: -4.8510 - acc: 0.6957\n",
      "Epoch 10/100\n",
      "700/700 [==============================] - 0s 14us/step - loss: -4.8510 - acc: 0.6957\n",
      "Epoch 11/100\n",
      "700/700 [==============================] - 0s 29us/step - loss: -4.8510 - acc: 0.6957\n",
      "Epoch 12/100\n",
      "700/700 [==============================] - 0s 29us/step - loss: -4.8510 - acc: 0.6957\n",
      "Epoch 13/100\n",
      "700/700 [==============================] - 0s 29us/step - loss: -4.8510 - acc: 0.6957\n",
      "Epoch 14/100\n",
      "700/700 [==============================] - 0s 15us/step - loss: -4.8510 - acc: 0.6957\n",
      "Epoch 15/100\n",
      "700/700 [==============================] - 0s 44us/step - loss: -4.8510 - acc: 0.6957\n",
      "Epoch 16/100\n",
      "700/700 [==============================] - 0s 27us/step - loss: -4.8510 - acc: 0.6957\n",
      "Epoch 17/100\n",
      "700/700 [==============================] - 0s 190us/step - loss: -4.8510 - acc: 0.6957\n",
      "Epoch 18/100\n",
      "700/700 [==============================] - 0s 15us/step - loss: -4.8510 - acc: 0.6957\n",
      "Epoch 19/100\n",
      "700/700 [==============================] - 0s 28us/step - loss: -4.8510 - acc: 0.6957\n",
      "Epoch 20/100\n",
      "700/700 [==============================] - 0s 15us/step - loss: -4.8510 - acc: 0.6957\n",
      "Epoch 21/100\n",
      "700/700 [==============================] - 0s 15us/step - loss: -4.8510 - acc: 0.6957\n",
      "Epoch 22/100\n",
      "700/700 [==============================] - 0s 28us/step - loss: -4.8510 - acc: 0.6957\n",
      "Epoch 23/100\n",
      "700/700 [==============================] - 0s 15us/step - loss: -4.8510 - acc: 0.6957\n",
      "Epoch 24/100\n",
      "700/700 [==============================] - 0s 15us/step - loss: -4.8510 - acc: 0.6957\n",
      "Epoch 25/100\n",
      "700/700 [==============================] - 0s 29us/step - loss: -4.8510 - acc: 0.6957\n",
      "Epoch 26/100\n",
      "700/700 [==============================] - 0s 116us/step - loss: -4.8510 - acc: 0.6957\n",
      "Epoch 27/100\n",
      "700/700 [==============================] - 0s 50us/step - loss: -4.8510 - acc: 0.6957\n",
      "Epoch 28/100\n",
      "700/700 [==============================] - 0s 28us/step - loss: -4.8510 - acc: 0.6957\n",
      "Epoch 29/100\n",
      "700/700 [==============================] - 0s 15us/step - loss: -4.8510 - acc: 0.6957\n",
      "Epoch 30/100\n",
      "700/700 [==============================] - 0s 16us/step - loss: -4.8510 - acc: 0.6957\n",
      "Epoch 31/100\n",
      "700/700 [==============================] - 0s 14us/step - loss: -4.8510 - acc: 0.6957\n",
      "Epoch 32/100\n",
      "700/700 [==============================] - 0s 14us/step - loss: -4.8510 - acc: 0.6957\n",
      "Epoch 33/100\n",
      "700/700 [==============================] - 0s 29us/step - loss: -4.8510 - acc: 0.6957\n",
      "Epoch 34/100\n",
      "700/700 [==============================] - 0s 29us/step - loss: -4.8510 - acc: 0.6957\n",
      "Epoch 35/100\n",
      "700/700 [==============================] - 0s 33us/step - loss: -4.8510 - acc: 0.6957\n",
      "Epoch 36/100\n",
      "700/700 [==============================] - 0s 25us/step - loss: -4.8510 - acc: 0.6957\n",
      "Epoch 37/100\n",
      "700/700 [==============================] - 0s 23us/step - loss: -4.8510 - acc: 0.6957\n",
      "Epoch 38/100\n",
      "700/700 [==============================] - 0s 33us/step - loss: -4.8510 - acc: 0.6957\n",
      "Epoch 39/100\n",
      "700/700 [==============================] - 0s 38us/step - loss: -4.8510 - acc: 0.6957\n",
      "Epoch 40/100\n",
      "700/700 [==============================] - ETA: 0s - loss: -5.9784 - acc: 0.62 - 0s 35us/step - loss: -4.8510 - acc: 0.6957\n",
      "Epoch 41/100\n",
      "700/700 [==============================] - 0s 43us/step - loss: -4.8510 - acc: 0.6957\n",
      "Epoch 42/100\n",
      "700/700 [==============================] - 0s 39us/step - loss: -4.8510 - acc: 0.6957\n",
      "Epoch 43/100\n",
      "700/700 [==============================] - ETA: 0s - loss: -4.6233 - acc: 0.71 - 0s 35us/step - loss: -4.8510 - acc: 0.6957\n",
      "Epoch 44/100\n",
      "700/700 [==============================] - 0s 44us/step - loss: -4.8510 - acc: 0.6957\n",
      "Epoch 45/100\n",
      "700/700 [==============================] - 0s 35us/step - loss: -4.8510 - acc: 0.6957\n",
      "Epoch 46/100\n",
      "700/700 [==============================] - 0s 31us/step - loss: -4.8510 - acc: 0.6957\n",
      "Epoch 47/100\n",
      "700/700 [==============================] - 0s 29us/step - loss: -4.8510 - acc: 0.6957\n",
      "Epoch 48/100\n",
      "700/700 [==============================] - 0s 33us/step - loss: -4.8510 - acc: 0.6957\n",
      "Epoch 49/100\n",
      "700/700 [==============================] - 0s 26us/step - loss: -4.8510 - acc: 0.6957\n",
      "Epoch 50/100\n",
      "700/700 [==============================] - 0s 12us/step - loss: -4.8510 - acc: 0.6957\n",
      "Epoch 51/100\n",
      "700/700 [==============================] - 0s 35us/step - loss: -4.8510 - acc: 0.6957\n",
      "Epoch 52/100\n",
      "700/700 [==============================] - 0s 21us/step - loss: -4.8510 - acc: 0.6957\n",
      "Epoch 53/100\n",
      "700/700 [==============================] - 0s 20us/step - loss: -4.8510 - acc: 0.6957\n",
      "Epoch 54/100\n",
      "700/700 [==============================] - 0s 19us/step - loss: -4.8510 - acc: 0.6957\n",
      "Epoch 55/100\n",
      "700/700 [==============================] - 0s 18us/step - loss: -4.8510 - acc: 0.6957\n",
      "Epoch 56/100\n",
      "700/700 [==============================] - 0s 26us/step - loss: -4.8510 - acc: 0.6957\n",
      "Epoch 57/100\n",
      "700/700 [==============================] - 0s 25us/step - loss: -4.8510 - acc: 0.6957\n",
      "Epoch 58/100\n",
      "700/700 [==============================] - 0s 17us/step - loss: -4.8510 - acc: 0.6957\n",
      "Epoch 59/100\n",
      "700/700 [==============================] - 0s 15us/step - loss: -4.8510 - acc: 0.6957\n",
      "Epoch 60/100\n",
      "700/700 [==============================] - 0s 15us/step - loss: -4.8510 - acc: 0.6957\n",
      "Epoch 61/100\n",
      "700/700 [==============================] - 0s 29us/step - loss: -4.8510 - acc: 0.6957\n",
      "Epoch 62/100\n",
      "700/700 [==============================] - 0s 34us/step - loss: -4.8510 - acc: 0.6957\n",
      "Epoch 63/100\n",
      "700/700 [==============================] - 0s 23us/step - loss: -4.8510 - acc: 0.6957\n",
      "Epoch 64/100\n",
      "700/700 [==============================] - 0s 30us/step - loss: -4.8510 - acc: 0.6957\n",
      "Epoch 65/100\n",
      "700/700 [==============================] - 0s 34us/step - loss: -4.8510 - acc: 0.6957\n",
      "Epoch 66/100\n",
      "700/700 [==============================] - 0s 24us/step - loss: -4.8510 - acc: 0.6957\n",
      "Epoch 67/100\n",
      "700/700 [==============================] - 0s 35us/step - loss: -4.8510 - acc: 0.6957\n",
      "Epoch 68/100\n",
      "700/700 [==============================] - 0s 28us/step - loss: -4.8510 - acc: 0.6957\n",
      "Epoch 69/100\n",
      "700/700 [==============================] - 0s 29us/step - loss: -4.8510 - acc: 0.6957\n",
      "Epoch 70/100\n",
      "700/700 [==============================] - 0s 42us/step - loss: -4.8510 - acc: 0.6957\n",
      "Epoch 71/100\n",
      "700/700 [==============================] - 0s 31us/step - loss: -4.8510 - acc: 0.6957\n",
      "Epoch 72/100\n",
      "700/700 [==============================] - 0s 28us/step - loss: -4.8510 - acc: 0.6957\n",
      "Epoch 73/100\n",
      "700/700 [==============================] - 0s 21us/step - loss: -4.8510 - acc: 0.6957\n",
      "Epoch 74/100\n",
      "700/700 [==============================] - 0s 15us/step - loss: -4.8510 - acc: 0.6957\n",
      "Epoch 75/100\n",
      "700/700 [==============================] - 0s 33us/step - loss: -4.8510 - acc: 0.6957\n",
      "Epoch 76/100\n",
      "700/700 [==============================] - 0s 25us/step - loss: -4.8510 - acc: 0.6957\n",
      "Epoch 77/100\n",
      "700/700 [==============================] - 0s 29us/step - loss: -4.8510 - acc: 0.6957\n",
      "Epoch 78/100\n",
      "700/700 [==============================] - 0s 29us/step - loss: -4.8510 - acc: 0.6957\n",
      "Epoch 79/100\n",
      "700/700 [==============================] - 0s 14us/step - loss: -4.8510 - acc: 0.6957\n",
      "Epoch 80/100\n",
      "700/700 [==============================] - 0s 30us/step - loss: -4.8510 - acc: 0.6957\n",
      "Epoch 81/100\n",
      "700/700 [==============================] - 0s 29us/step - loss: -4.8510 - acc: 0.6957\n",
      "Epoch 82/100\n",
      "700/700 [==============================] - 0s 29us/step - loss: -4.8510 - acc: 0.6957\n",
      "Epoch 83/100\n",
      "700/700 [==============================] - 0s 14us/step - loss: -4.8510 - acc: 0.6957\n",
      "Epoch 84/100\n",
      "700/700 [==============================] - 0s 34us/step - loss: -4.8510 - acc: 0.6957\n",
      "Epoch 85/100\n"
     ]
    },
    {
     "name": "stdout",
     "output_type": "stream",
     "text": [
      "700/700 [==============================] - 0s 28us/step - loss: -4.8510 - acc: 0.6957\n",
      "Epoch 86/100\n",
      "700/700 [==============================] - 0s 27us/step - loss: -4.8510 - acc: 0.6957\n",
      "Epoch 87/100\n",
      "700/700 [==============================] - 0s 11us/step - loss: -4.8510 - acc: 0.6957\n",
      "Epoch 88/100\n",
      "700/700 [==============================] - 0s 28us/step - loss: -4.8510 - acc: 0.6957\n",
      "Epoch 89/100\n",
      "700/700 [==============================] - 0s 30us/step - loss: -4.8510 - acc: 0.6957\n",
      "Epoch 90/100\n",
      "700/700 [==============================] - 0s 43us/step - loss: -4.8510 - acc: 0.6957\n",
      "Epoch 91/100\n",
      "700/700 [==============================] - 0s 44us/step - loss: -4.8510 - acc: 0.6957\n",
      "Epoch 92/100\n",
      "700/700 [==============================] - 0s 15us/step - loss: -4.8510 - acc: 0.6957\n",
      "Epoch 93/100\n",
      "700/700 [==============================] - 0s 29us/step - loss: -4.8510 - acc: 0.6957\n",
      "Epoch 94/100\n",
      "700/700 [==============================] - 0s 30us/step - loss: -4.8510 - acc: 0.6957\n",
      "Epoch 95/100\n",
      "700/700 [==============================] - 0s 25us/step - loss: -4.8510 - acc: 0.6957\n",
      "Epoch 96/100\n",
      "700/700 [==============================] - 0s 14us/step - loss: -4.8510 - acc: 0.6957\n",
      "Epoch 97/100\n",
      "700/700 [==============================] - 0s 29us/step - loss: -4.8510 - acc: 0.6957\n",
      "Epoch 98/100\n",
      "700/700 [==============================] - 0s 27us/step - loss: -4.8510 - acc: 0.6957\n",
      "Epoch 99/100\n",
      "700/700 [==============================] - 0s 44us/step - loss: -4.8510 - acc: 0.6957\n",
      "Epoch 100/100\n",
      "700/700 [==============================] - 0s 29us/step - loss: -4.8510 - acc: 0.6957\n"
     ]
    },
    {
     "data": {
      "text/plain": [
       "<keras.callbacks.History at 0x1882d540208>"
      ]
     },
     "execution_count": 40,
     "metadata": {},
     "output_type": "execute_result"
    }
   ],
   "source": [
    "# fitting the model\n",
    "classifier.fit(x_train,y_train,batch_size=200, epochs = 100)"
   ]
  },
  {
   "cell_type": "code",
   "execution_count": 41,
   "metadata": {},
   "outputs": [
    {
     "name": "stdout",
     "output_type": "stream",
     "text": [
      "71.0\n"
     ]
    }
   ],
   "source": [
    "# Predicting the test data\n",
    "y_pred = classifier.predict(x_test)\n",
    "\n",
    "# Accuracy of the result\n",
    "from sklearn.metrics import accuracy_score\n",
    "print(accuracy_score(y_test,y_pred.round(),normalize =True)*100)"
   ]
  }
 ],
 "metadata": {
  "kernelspec": {
   "display_name": "Python 3",
   "language": "python",
   "name": "python3"
  },
  "language_info": {
   "codemirror_mode": {
    "name": "ipython",
    "version": 3
   },
   "file_extension": ".py",
   "mimetype": "text/x-python",
   "name": "python",
   "nbconvert_exporter": "python",
   "pygments_lexer": "ipython3",
   "version": "3.6.4"
  }
 },
 "nbformat": 4,
 "nbformat_minor": 2
}
