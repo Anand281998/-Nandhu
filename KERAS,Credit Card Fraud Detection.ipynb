{
 "cells": [
  {
   "cell_type": "code",
   "execution_count": 21,
   "metadata": {},
   "outputs": [],
   "source": [
    "#importing the libraries\n",
    "import pandas as pd\n",
    "import numpy as np\n",
    "from keras.models import Sequential\n",
    "from keras.layers import Dense\n",
    "from sklearn.model_selection import train_test_split\n",
    "from sklearn.metrics import accuracy_score"
   ]
  },
  {
   "cell_type": "code",
   "execution_count": 22,
   "metadata": {},
   "outputs": [
    {
     "data": {
      "text/html": [
       "<div>\n",
       "<style scoped>\n",
       "    .dataframe tbody tr th:only-of-type {\n",
       "        vertical-align: middle;\n",
       "    }\n",
       "\n",
       "    .dataframe tbody tr th {\n",
       "        vertical-align: top;\n",
       "    }\n",
       "\n",
       "    .dataframe thead th {\n",
       "        text-align: right;\n",
       "    }\n",
       "</style>\n",
       "<table border=\"1\" class=\"dataframe\">\n",
       "  <thead>\n",
       "    <tr style=\"text-align: right;\">\n",
       "      <th></th>\n",
       "      <th>Unnamed: 0</th>\n",
       "      <th>Time</th>\n",
       "      <th>V1</th>\n",
       "      <th>V2</th>\n",
       "      <th>V3</th>\n",
       "      <th>V4</th>\n",
       "      <th>V5</th>\n",
       "      <th>V6</th>\n",
       "      <th>V7</th>\n",
       "      <th>V8</th>\n",
       "      <th>...</th>\n",
       "      <th>V21</th>\n",
       "      <th>V22</th>\n",
       "      <th>V23</th>\n",
       "      <th>V24</th>\n",
       "      <th>V25</th>\n",
       "      <th>V26</th>\n",
       "      <th>V27</th>\n",
       "      <th>V28</th>\n",
       "      <th>Amount</th>\n",
       "      <th>Class</th>\n",
       "    </tr>\n",
       "  </thead>\n",
       "  <tbody>\n",
       "    <tr>\n",
       "      <th>0</th>\n",
       "      <td>1</td>\n",
       "      <td>0.0</td>\n",
       "      <td>-1.359807</td>\n",
       "      <td>-0.072781</td>\n",
       "      <td>2.536347</td>\n",
       "      <td>1.378155</td>\n",
       "      <td>-0.338321</td>\n",
       "      <td>0.462388</td>\n",
       "      <td>0.239599</td>\n",
       "      <td>0.098698</td>\n",
       "      <td>...</td>\n",
       "      <td>-0.018307</td>\n",
       "      <td>0.277838</td>\n",
       "      <td>-0.110474</td>\n",
       "      <td>0.066928</td>\n",
       "      <td>0.128539</td>\n",
       "      <td>-0.189115</td>\n",
       "      <td>0.133558</td>\n",
       "      <td>-0.021053</td>\n",
       "      <td>149.62</td>\n",
       "      <td>0</td>\n",
       "    </tr>\n",
       "  </tbody>\n",
       "</table>\n",
       "<p>1 rows × 32 columns</p>\n",
       "</div>"
      ],
      "text/plain": [
       "   Unnamed: 0  Time        V1        V2        V3        V4        V5  \\\n",
       "0           1   0.0 -1.359807 -0.072781  2.536347  1.378155 -0.338321   \n",
       "\n",
       "         V6        V7        V8  ...         V21       V22       V23  \\\n",
       "0  0.462388  0.239599  0.098698  ...   -0.018307  0.277838 -0.110474   \n",
       "\n",
       "        V24       V25       V26       V27       V28  Amount  Class  \n",
       "0  0.066928  0.128539 -0.189115  0.133558 -0.021053  149.62      0  \n",
       "\n",
       "[1 rows x 32 columns]"
      ]
     },
     "execution_count": 22,
     "metadata": {},
     "output_type": "execute_result"
    }
   ],
   "source": [
    " # importing the dataset\n",
    "z = pd.read_csv('G:\\Data Sets\\CreditCard.csv')\n",
    "z.head(n=1)"
   ]
  },
  {
   "cell_type": "code",
   "execution_count": 23,
   "metadata": {},
   "outputs": [],
   "source": [
    "# importing the data into feature and label variables\n",
    "x = z.drop(['Class'],axis=1)\n",
    "y = z.Class"
   ]
  },
  {
   "cell_type": "code",
   "execution_count": 24,
   "metadata": {},
   "outputs": [],
   "source": [
    "# Splitting the data into training and test data\n",
    "x_train,x_test,y_train,y_test = train_test_split(x,y,test_size = 0.3)"
   ]
  },
  {
   "cell_type": "code",
   "execution_count": 25,
   "metadata": {},
   "outputs": [],
   "source": [
    "# creating the model and layer with neurons\n",
    "classifier = Sequential()\n",
    "layer_1 = classifier.add(Dense(100,kernel_initializer = 'uniform' , activation = 'relu' , input_dim = 31))\n",
    "layer_2 = classifier.add(Dense(100,kernel_initializer = 'uniform' , activation = 'relu'))\n",
    "layer_3 = classifier.add(Dense(50 , kernel_initializer = 'uniform' , activation = 'relu'))\n",
    "layer_4 = classifier.add(Dense(25, kernel_initializer = 'uniform' ,activation = 'relu'))\n",
    "out_layer = classifier.add(Dense(1,kernel_initializer = 'uniform' , activation = 'sigmoid'))"
   ]
  },
  {
   "cell_type": "code",
   "execution_count": 26,
   "metadata": {},
   "outputs": [
    {
     "name": "stdout",
     "output_type": "stream",
     "text": [
      "Epoch 1/50\n",
      "199364/199364 [==============================] - 3s 13us/step - loss: 0.0371 - acc: 0.9934\n",
      "Epoch 2/50\n",
      "199364/199364 [==============================] - 2s 11us/step - loss: 0.0258 - acc: 0.9984\n",
      "Epoch 3/50\n",
      "199364/199364 [==============================] - 2s 11us/step - loss: 0.0258 - acc: 0.9984\n",
      "Epoch 4/50\n",
      "199364/199364 [==============================] - 2s 10us/step - loss: 0.0258 - acc: 0.9984\n",
      "Epoch 5/50\n",
      "199364/199364 [==============================] - 2s 11us/step - loss: 0.0258 - acc: 0.9984\n",
      "Epoch 6/50\n",
      "199364/199364 [==============================] - 2s 10us/step - loss: 0.0258 - acc: 0.9984: 0s - loss: 0.0249 - \n",
      "Epoch 7/50\n",
      "199364/199364 [==============================] - 2s 11us/step - loss: 0.0258 - acc: 0.9984\n",
      "Epoch 8/50\n",
      "199364/199364 [==============================] - 2s 10us/step - loss: 0.0258 - acc: 0.9984\n",
      "Epoch 9/50\n",
      "199364/199364 [==============================] - 2s 11us/step - loss: 0.0258 - acc: 0.9984\n",
      "Epoch 10/50\n",
      "199364/199364 [==============================] - 2s 12us/step - loss: 0.0258 - acc: 0.9984\n",
      "Epoch 11/50\n",
      "199364/199364 [==============================] - 2s 12us/step - loss: 0.0258 - acc: 0.9984\n",
      "Epoch 12/50\n",
      "199364/199364 [==============================] - 2s 11us/step - loss: 0.0258 - acc: 0.9984\n",
      "Epoch 13/50\n",
      "199364/199364 [==============================] - 2s 12us/step - loss: 0.0258 - acc: 0.9984\n",
      "Epoch 14/50\n",
      "199364/199364 [==============================] - 2s 12us/step - loss: 0.0258 - acc: 0.9984\n",
      "Epoch 15/50\n",
      "199364/199364 [==============================] - 2s 11us/step - loss: 0.0258 - acc: 0.9984\n",
      "Epoch 16/50\n",
      "199364/199364 [==============================] - 2s 11us/step - loss: 0.0258 - acc: 0.9984\n",
      "Epoch 17/50\n",
      "199364/199364 [==============================] - 2s 11us/step - loss: 0.0258 - acc: 0.9984\n",
      "Epoch 18/50\n",
      "199364/199364 [==============================] - 2s 11us/step - loss: 0.0258 - acc: 0.9984\n",
      "Epoch 19/50\n",
      "199364/199364 [==============================] - 2s 10us/step - loss: 0.0258 - acc: 0.9984\n",
      "Epoch 20/50\n",
      "199364/199364 [==============================] - 2s 10us/step - loss: 0.0258 - acc: 0.9984\n",
      "Epoch 21/50\n",
      "199364/199364 [==============================] - 2s 10us/step - loss: 0.0258 - acc: 0.9984\n",
      "Epoch 22/50\n",
      "199364/199364 [==============================] - 2s 11us/step - loss: 0.0258 - acc: 0.9984\n",
      "Epoch 23/50\n",
      "199364/199364 [==============================] - 2s 12us/step - loss: 0.0258 - acc: 0.9984\n",
      "Epoch 24/50\n",
      "199364/199364 [==============================] - 2s 12us/step - loss: 0.0258 - acc: 0.9984\n",
      "Epoch 25/50\n",
      "199364/199364 [==============================] - 3s 13us/step - loss: 0.0258 - acc: 0.9984\n",
      "Epoch 26/50\n",
      "199364/199364 [==============================] - 2s 11us/step - loss: 0.0258 - acc: 0.9984\n",
      "Epoch 27/50\n",
      "199364/199364 [==============================] - 2s 11us/step - loss: 0.0258 - acc: 0.9984\n",
      "Epoch 28/50\n",
      "199364/199364 [==============================] - 2s 11us/step - loss: 0.0258 - acc: 0.9984\n",
      "Epoch 29/50\n",
      "199364/199364 [==============================] - 2s 9us/step - loss: 0.0258 - acc: 0.9984\n",
      "Epoch 30/50\n",
      "199364/199364 [==============================] - 2s 9us/step - loss: 0.0258 - acc: 0.9984\n",
      "Epoch 31/50\n",
      "199364/199364 [==============================] - 2s 9us/step - loss: 0.0258 - acc: 0.9984\n",
      "Epoch 32/50\n",
      "199364/199364 [==============================] - 2s 10us/step - loss: 0.0258 - acc: 0.9984\n",
      "Epoch 33/50\n",
      "199364/199364 [==============================] - 2s 9us/step - loss: 0.0258 - acc: 0.9984\n",
      "Epoch 34/50\n",
      "199364/199364 [==============================] - 2s 9us/step - loss: 0.0258 - acc: 0.9984\n",
      "Epoch 35/50\n",
      "199364/199364 [==============================] - 2s 10us/step - loss: 0.0258 - acc: 0.9984\n",
      "Epoch 36/50\n",
      "199364/199364 [==============================] - 2s 9us/step - loss: 0.0258 - acc: 0.9984\n",
      "Epoch 37/50\n",
      "199364/199364 [==============================] - 2s 9us/step - loss: 0.0258 - acc: 0.9984\n",
      "Epoch 38/50\n",
      "199364/199364 [==============================] - 2s 9us/step - loss: 0.0258 - acc: 0.9984\n",
      "Epoch 39/50\n",
      "199364/199364 [==============================] - 2s 9us/step - loss: 0.0258 - acc: 0.9984A: 0s - loss: 0.0\n",
      "Epoch 40/50\n",
      "199364/199364 [==============================] - 2s 10us/step - loss: 0.0258 - acc: 0.9984\n",
      "Epoch 41/50\n",
      "199364/199364 [==============================] - 2s 10us/step - loss: 0.0258 - acc: 0.9984\n",
      "Epoch 42/50\n",
      "199364/199364 [==============================] - 2s 9us/step - loss: 0.0258 - acc: 0.9984\n",
      "Epoch 43/50\n",
      "199364/199364 [==============================] - 2s 9us/step - loss: 0.0258 - acc: 0.9984\n",
      "Epoch 44/50\n",
      "199364/199364 [==============================] - 2s 9us/step - loss: 0.0258 - acc: 0.9984\n",
      "Epoch 45/50\n",
      "199364/199364 [==============================] - 2s 9us/step - loss: 0.0258 - acc: 0.9984\n",
      "Epoch 46/50\n",
      "199364/199364 [==============================] - 2s 9us/step - loss: 0.0258 - acc: 0.9984\n",
      "Epoch 47/50\n",
      "199364/199364 [==============================] - 2s 9us/step - loss: 0.0258 - acc: 0.9984\n",
      "Epoch 48/50\n",
      "199364/199364 [==============================] - 2s 9us/step - loss: 0.0258 - acc: 0.9984\n",
      "Epoch 49/50\n",
      "199364/199364 [==============================] - 2s 10us/step - loss: 0.0258 - acc: 0.9984\n",
      "Epoch 50/50\n",
      "199364/199364 [==============================] - 2s 9us/step - loss: 0.0258 - acc: 0.9984\n"
     ]
    }
   ],
   "source": [
    "# optimization of loss function usig adam optimizer\n",
    "opt = classifier.compile(optimizer = 'Adam' , loss = 'binary_crossentropy' , metrics = ['accuracy'] )\n",
    "\n",
    "# Fitting the training data\n",
    "fitting = classifier.fit(x_train,y_train,batch_size = 1000 , epochs =50)"
   ]
  },
  {
   "cell_type": "code",
   "execution_count": 28,
   "metadata": {},
   "outputs": [
    {
     "name": "stdout",
     "output_type": "stream",
     "text": [
      "99.7975258359374\n"
     ]
    }
   ],
   "source": [
    "# Predicting the test data\n",
    "y_pred = classifier.predict(x_test)\n",
    "\n",
    "# Accuracy of the test prediction\n",
    "print(accuracy_score(y_test , y_pred.round(),normalize = True)*100)"
   ]
  },
  {
   "cell_type": "code",
   "execution_count": null,
   "metadata": {},
   "outputs": [],
   "source": []
  }
 ],
 "metadata": {
  "kernelspec": {
   "display_name": "Python 3",
   "language": "python",
   "name": "python3"
  },
  "language_info": {
   "codemirror_mode": {
    "name": "ipython",
    "version": 3
   },
   "file_extension": ".py",
   "mimetype": "text/x-python",
   "name": "python",
   "nbconvert_exporter": "python",
   "pygments_lexer": "ipython3",
   "version": "3.6.4"
  }
 },
 "nbformat": 4,
 "nbformat_minor": 2
}
