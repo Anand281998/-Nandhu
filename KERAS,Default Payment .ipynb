{
 "cells": [
  {
   "cell_type": "code",
   "execution_count": 1,
   "metadata": {},
   "outputs": [
    {
     "name": "stderr",
     "output_type": "stream",
     "text": [
      "C:\\Anaconda\\lib\\site-packages\\h5py\\__init__.py:36: FutureWarning: Conversion of the second argument of issubdtype from `float` to `np.floating` is deprecated. In future, it will be treated as `np.float64 == np.dtype(float).type`.\n",
      "  from ._conv import register_converters as _register_converters\n",
      "Using TensorFlow backend.\n",
      "C:\\Anaconda\\lib\\site-packages\\sklearn\\cross_validation.py:41: DeprecationWarning: This module was deprecated in version 0.18 in favor of the model_selection module into which all the refactored classes and functions are moved. Also note that the interface of the new CV iterators are different from that of this module. This module will be removed in 0.20.\n",
      "  \"This module will be removed in 0.20.\", DeprecationWarning)\n"
     ]
    }
   ],
   "source": [
    "# Importing the libraries \n",
    "import pandas as pd\n",
    "import numpy as np\n",
    "from keras.models import Sequential\n",
    "from keras.layers import Dense\n",
    "from sklearn.cross_validation import train_test_split\n",
    "from sklearn.metrics import confusion_matrix\n",
    "from sklearn.metrics import accuracy_score"
   ]
  },
  {
   "cell_type": "code",
   "execution_count": 2,
   "metadata": {},
   "outputs": [
    {
     "data": {
      "text/html": [
       "<div>\n",
       "<style scoped>\n",
       "    .dataframe tbody tr th:only-of-type {\n",
       "        vertical-align: middle;\n",
       "    }\n",
       "\n",
       "    .dataframe tbody tr th {\n",
       "        vertical-align: top;\n",
       "    }\n",
       "\n",
       "    .dataframe thead th {\n",
       "        text-align: right;\n",
       "    }\n",
       "</style>\n",
       "<table border=\"1\" class=\"dataframe\">\n",
       "  <thead>\n",
       "    <tr style=\"text-align: right;\">\n",
       "      <th></th>\n",
       "      <th>X1</th>\n",
       "      <th>X2</th>\n",
       "      <th>X3</th>\n",
       "      <th>X4</th>\n",
       "      <th>X5</th>\n",
       "      <th>X6</th>\n",
       "      <th>X7</th>\n",
       "      <th>X8</th>\n",
       "      <th>X9</th>\n",
       "      <th>X10</th>\n",
       "      <th>...</th>\n",
       "      <th>X15</th>\n",
       "      <th>X16</th>\n",
       "      <th>X17</th>\n",
       "      <th>X18</th>\n",
       "      <th>X19</th>\n",
       "      <th>X20</th>\n",
       "      <th>X21</th>\n",
       "      <th>X22</th>\n",
       "      <th>X23</th>\n",
       "      <th>Y</th>\n",
       "    </tr>\n",
       "  </thead>\n",
       "  <tbody>\n",
       "    <tr>\n",
       "      <th>1</th>\n",
       "      <td>20000</td>\n",
       "      <td>2</td>\n",
       "      <td>2</td>\n",
       "      <td>1</td>\n",
       "      <td>24</td>\n",
       "      <td>2</td>\n",
       "      <td>2</td>\n",
       "      <td>-1</td>\n",
       "      <td>-1</td>\n",
       "      <td>-2</td>\n",
       "      <td>...</td>\n",
       "      <td>0</td>\n",
       "      <td>0</td>\n",
       "      <td>0</td>\n",
       "      <td>0</td>\n",
       "      <td>689</td>\n",
       "      <td>0</td>\n",
       "      <td>0</td>\n",
       "      <td>0</td>\n",
       "      <td>0</td>\n",
       "      <td>1</td>\n",
       "    </tr>\n",
       "    <tr>\n",
       "      <th>2</th>\n",
       "      <td>120000</td>\n",
       "      <td>2</td>\n",
       "      <td>2</td>\n",
       "      <td>2</td>\n",
       "      <td>26</td>\n",
       "      <td>-1</td>\n",
       "      <td>2</td>\n",
       "      <td>0</td>\n",
       "      <td>0</td>\n",
       "      <td>0</td>\n",
       "      <td>...</td>\n",
       "      <td>3272</td>\n",
       "      <td>3455</td>\n",
       "      <td>3261</td>\n",
       "      <td>0</td>\n",
       "      <td>1000</td>\n",
       "      <td>1000</td>\n",
       "      <td>1000</td>\n",
       "      <td>0</td>\n",
       "      <td>2000</td>\n",
       "      <td>1</td>\n",
       "    </tr>\n",
       "  </tbody>\n",
       "</table>\n",
       "<p>2 rows × 24 columns</p>\n",
       "</div>"
      ],
      "text/plain": [
       "       X1 X2 X3 X4  X5  X6 X7  X8  X9 X10 ...   X15   X16   X17 X18   X19  \\\n",
       "1   20000  2  2  1  24   2  2  -1  -1  -2 ...     0     0     0   0   689   \n",
       "2  120000  2  2  2  26  -1  2   0   0   0 ...  3272  3455  3261   0  1000   \n",
       "\n",
       "    X20   X21 X22   X23  Y  \n",
       "1     0     0   0     0  1  \n",
       "2  1000  1000   0  2000  1  \n",
       "\n",
       "[2 rows x 24 columns]"
      ]
     },
     "execution_count": 2,
     "metadata": {},
     "output_type": "execute_result"
    }
   ],
   "source": [
    "# Importing the Default payment dataset\n",
    "z = pd.read_excel('G:\\Data Sets\\default_of_creditcard_clients.xls')\n",
    "z = z.drop(z.index[[0]])\n",
    "z.head(n=2)"
   ]
  },
  {
   "cell_type": "code",
   "execution_count": 3,
   "metadata": {},
   "outputs": [
    {
     "data": {
      "text/html": [
       "<div>\n",
       "<style scoped>\n",
       "    .dataframe tbody tr th:only-of-type {\n",
       "        vertical-align: middle;\n",
       "    }\n",
       "\n",
       "    .dataframe tbody tr th {\n",
       "        vertical-align: top;\n",
       "    }\n",
       "\n",
       "    .dataframe thead th {\n",
       "        text-align: right;\n",
       "    }\n",
       "</style>\n",
       "<table border=\"1\" class=\"dataframe\">\n",
       "  <thead>\n",
       "    <tr style=\"text-align: right;\">\n",
       "      <th></th>\n",
       "      <th>X1</th>\n",
       "      <th>X2</th>\n",
       "      <th>X3</th>\n",
       "      <th>X4</th>\n",
       "      <th>X5</th>\n",
       "      <th>X6</th>\n",
       "      <th>X7</th>\n",
       "      <th>X8</th>\n",
       "      <th>X9</th>\n",
       "      <th>X10</th>\n",
       "      <th>...</th>\n",
       "      <th>X15</th>\n",
       "      <th>X16</th>\n",
       "      <th>X17</th>\n",
       "      <th>X18</th>\n",
       "      <th>X19</th>\n",
       "      <th>X20</th>\n",
       "      <th>X21</th>\n",
       "      <th>X22</th>\n",
       "      <th>X23</th>\n",
       "      <th>Y</th>\n",
       "    </tr>\n",
       "  </thead>\n",
       "  <tbody>\n",
       "    <tr>\n",
       "      <th>count</th>\n",
       "      <td>30000</td>\n",
       "      <td>30000</td>\n",
       "      <td>30000</td>\n",
       "      <td>30000</td>\n",
       "      <td>30000</td>\n",
       "      <td>30000</td>\n",
       "      <td>30000</td>\n",
       "      <td>30000</td>\n",
       "      <td>30000</td>\n",
       "      <td>30000</td>\n",
       "      <td>...</td>\n",
       "      <td>30000</td>\n",
       "      <td>30000</td>\n",
       "      <td>30000</td>\n",
       "      <td>30000</td>\n",
       "      <td>30000</td>\n",
       "      <td>30000</td>\n",
       "      <td>30000</td>\n",
       "      <td>30000</td>\n",
       "      <td>30000</td>\n",
       "      <td>30000</td>\n",
       "    </tr>\n",
       "    <tr>\n",
       "      <th>unique</th>\n",
       "      <td>81</td>\n",
       "      <td>2</td>\n",
       "      <td>7</td>\n",
       "      <td>4</td>\n",
       "      <td>56</td>\n",
       "      <td>11</td>\n",
       "      <td>11</td>\n",
       "      <td>11</td>\n",
       "      <td>11</td>\n",
       "      <td>10</td>\n",
       "      <td>...</td>\n",
       "      <td>21548</td>\n",
       "      <td>21010</td>\n",
       "      <td>20604</td>\n",
       "      <td>7943</td>\n",
       "      <td>7899</td>\n",
       "      <td>7518</td>\n",
       "      <td>6937</td>\n",
       "      <td>6897</td>\n",
       "      <td>6939</td>\n",
       "      <td>2</td>\n",
       "    </tr>\n",
       "    <tr>\n",
       "      <th>top</th>\n",
       "      <td>50000</td>\n",
       "      <td>2</td>\n",
       "      <td>2</td>\n",
       "      <td>2</td>\n",
       "      <td>29</td>\n",
       "      <td>0</td>\n",
       "      <td>0</td>\n",
       "      <td>0</td>\n",
       "      <td>0</td>\n",
       "      <td>0</td>\n",
       "      <td>...</td>\n",
       "      <td>0</td>\n",
       "      <td>0</td>\n",
       "      <td>0</td>\n",
       "      <td>0</td>\n",
       "      <td>0</td>\n",
       "      <td>0</td>\n",
       "      <td>0</td>\n",
       "      <td>0</td>\n",
       "      <td>0</td>\n",
       "      <td>0</td>\n",
       "    </tr>\n",
       "    <tr>\n",
       "      <th>freq</th>\n",
       "      <td>3365</td>\n",
       "      <td>18112</td>\n",
       "      <td>14030</td>\n",
       "      <td>15964</td>\n",
       "      <td>1605</td>\n",
       "      <td>14737</td>\n",
       "      <td>15730</td>\n",
       "      <td>15764</td>\n",
       "      <td>16455</td>\n",
       "      <td>16947</td>\n",
       "      <td>...</td>\n",
       "      <td>3195</td>\n",
       "      <td>3506</td>\n",
       "      <td>4020</td>\n",
       "      <td>5249</td>\n",
       "      <td>5396</td>\n",
       "      <td>5968</td>\n",
       "      <td>6408</td>\n",
       "      <td>6703</td>\n",
       "      <td>7173</td>\n",
       "      <td>23364</td>\n",
       "    </tr>\n",
       "  </tbody>\n",
       "</table>\n",
       "<p>4 rows × 24 columns</p>\n",
       "</div>"
      ],
      "text/plain": [
       "           X1     X2     X3     X4     X5     X6     X7     X8     X9    X10  \\\n",
       "count   30000  30000  30000  30000  30000  30000  30000  30000  30000  30000   \n",
       "unique     81      2      7      4     56     11     11     11     11     10   \n",
       "top     50000      2      2      2     29      0      0      0      0      0   \n",
       "freq     3365  18112  14030  15964   1605  14737  15730  15764  16455  16947   \n",
       "\n",
       "        ...      X15    X16    X17    X18    X19    X20    X21    X22    X23  \\\n",
       "count   ...    30000  30000  30000  30000  30000  30000  30000  30000  30000   \n",
       "unique  ...    21548  21010  20604   7943   7899   7518   6937   6897   6939   \n",
       "top     ...        0      0      0      0      0      0      0      0      0   \n",
       "freq    ...     3195   3506   4020   5249   5396   5968   6408   6703   7173   \n",
       "\n",
       "            Y  \n",
       "count   30000  \n",
       "unique      2  \n",
       "top         0  \n",
       "freq    23364  \n",
       "\n",
       "[4 rows x 24 columns]"
      ]
     },
     "execution_count": 3,
     "metadata": {},
     "output_type": "execute_result"
    }
   ],
   "source": [
    "# Describing the dataset\n",
    "z.describe()"
   ]
  },
  {
   "cell_type": "code",
   "execution_count": 4,
   "metadata": {},
   "outputs": [
    {
     "name": "stdout",
     "output_type": "stream",
     "text": [
      "<class 'pandas.core.frame.DataFrame'>\n",
      "Index: 30000 entries, 1 to 30000\n",
      "Data columns (total 24 columns):\n",
      "X1     30000 non-null object\n",
      "X2     30000 non-null object\n",
      "X3     30000 non-null object\n",
      "X4     30000 non-null object\n",
      "X5     30000 non-null object\n",
      "X6     30000 non-null object\n",
      "X7     30000 non-null object\n",
      "X8     30000 non-null object\n",
      "X9     30000 non-null object\n",
      "X10    30000 non-null object\n",
      "X11    30000 non-null object\n",
      "X12    30000 non-null object\n",
      "X13    30000 non-null object\n",
      "X14    30000 non-null object\n",
      "X15    30000 non-null object\n",
      "X16    30000 non-null object\n",
      "X17    30000 non-null object\n",
      "X18    30000 non-null object\n",
      "X19    30000 non-null object\n",
      "X20    30000 non-null object\n",
      "X21    30000 non-null object\n",
      "X22    30000 non-null object\n",
      "X23    30000 non-null object\n",
      "Y      30000 non-null object\n",
      "dtypes: object(24)\n",
      "memory usage: 5.7+ MB\n"
     ]
    }
   ],
   "source": [
    "# Info of the dataset\n",
    "z.info()"
   ]
  },
  {
   "cell_type": "code",
   "execution_count": 5,
   "metadata": {},
   "outputs": [
    {
     "data": {
      "text/html": [
       "<div>\n",
       "<style scoped>\n",
       "    .dataframe tbody tr th:only-of-type {\n",
       "        vertical-align: middle;\n",
       "    }\n",
       "\n",
       "    .dataframe tbody tr th {\n",
       "        vertical-align: top;\n",
       "    }\n",
       "\n",
       "    .dataframe thead th {\n",
       "        text-align: right;\n",
       "    }\n",
       "</style>\n",
       "<table border=\"1\" class=\"dataframe\">\n",
       "  <thead>\n",
       "    <tr style=\"text-align: right;\">\n",
       "      <th></th>\n",
       "    </tr>\n",
       "  </thead>\n",
       "  <tbody>\n",
       "  </tbody>\n",
       "</table>\n",
       "</div>"
      ],
      "text/plain": [
       "Empty DataFrame\n",
       "Columns: []\n",
       "Index: []"
      ]
     },
     "execution_count": 5,
     "metadata": {},
     "output_type": "execute_result"
    }
   ],
   "source": [
    "# Correlation between the attributes\n",
    "z.corr(method = 'pearson')"
   ]
  },
  {
   "cell_type": "code",
   "execution_count": 6,
   "metadata": {},
   "outputs": [],
   "source": [
    "# Assigning the feature and label data into variables\n",
    "x = z.drop(['Y'],axis =1)\n",
    "y = z.Y\n",
    "y = y.astype('float32')\n"
   ]
  },
  {
   "cell_type": "code",
   "execution_count": 7,
   "metadata": {},
   "outputs": [],
   "source": [
    "# Splitting the data into training and test set\n",
    "x_train,x_test,y_train,y_test = train_test_split(x,y,test_size =0.3)"
   ]
  },
  {
   "cell_type": "code",
   "execution_count": 8,
   "metadata": {},
   "outputs": [],
   "source": [
    "# calling the function \n",
    "Classifier = Sequential()\n",
    "\n",
    "# Creating the layers with neurons and activation function\n",
    "layer_1 = Classifier.add(Dense(20,kernel_initializer = 'uniform', activation = 'relu' ,input_dim = 23 ))\n",
    "layer_2 = Classifier.add(Dense(20,kernel_initializer ='uniform' , activation = 'relu'))\n",
    "layer_3  = Classifier.add(Dense(10,kernel_initializer = 'uniform',activation = 'relu'))\n",
    "layer_out = Classifier.add(Dense(1, kernel_initializer = 'uniform' , activation = 'sigmoid'))"
   ]
  },
  {
   "cell_type": "code",
   "execution_count": 9,
   "metadata": {},
   "outputs": [],
   "source": [
    "# Optimization of loss function using adam optimizer \n",
    "opt = Classifier.compile(optimizer = 'adam' , loss = 'binary_crossentropy' , metrics = ['accuracy'])"
   ]
  },
  {
   "cell_type": "code",
   "execution_count": 10,
   "metadata": {},
   "outputs": [
    {
     "name": "stdout",
     "output_type": "stream",
     "text": [
      "Epoch 1/10\n",
      "21000/21000 [==============================] - 2s 78us/step - loss: 0.5487 - acc: 0.7730\n",
      "Epoch 2/10\n",
      "21000/21000 [==============================] - 0s 16us/step - loss: 0.5217 - acc: 0.7798\n",
      "Epoch 3/10\n",
      "21000/21000 [==============================] - 0s 17us/step - loss: 0.5138 - acc: 0.7797\n",
      "Epoch 4/10\n",
      "21000/21000 [==============================] - 0s 17us/step - loss: 0.5115 - acc: 0.7798\n",
      "Epoch 5/10\n",
      "21000/21000 [==============================] - 0s 16us/step - loss: 0.5081 - acc: 0.7798\n",
      "Epoch 6/10\n",
      "21000/21000 [==============================] - 0s 17us/step - loss: 0.5070 - acc: 0.7797\n",
      "Epoch 7/10\n",
      "21000/21000 [==============================] - 0s 18us/step - loss: 0.5040 - acc: 0.7797\n",
      "Epoch 8/10\n",
      "21000/21000 [==============================] - 0s 16us/step - loss: 0.5032 - acc: 0.7797\n",
      "Epoch 9/10\n",
      "21000/21000 [==============================] - 0s 17us/step - loss: 0.5019 - acc: 0.7799\n",
      "Epoch 10/10\n",
      "21000/21000 [==============================] - 1s 26us/step - loss: 0.5012 - acc: 0.7798\n"
     ]
    }
   ],
   "source": [
    "# Fitting the training data through model\n",
    "fitting = Classifier.fit(x_train , y_train ,batch_size =150 ,epochs = 100)"
   ]
  },
  {
   "cell_type": "code",
   "execution_count": 11,
   "metadata": {},
   "outputs": [],
   "source": [
    "# predicting the test data\n",
    "y_pred = Classifier.predict(x_test)"
   ]
  },
  {
   "cell_type": "code",
   "execution_count": 13,
   "metadata": {},
   "outputs": [
    {
     "name": "stdout",
     "output_type": "stream",
     "text": [
      "77.65555555555555\n"
     ]
    }
   ],
   "source": [
    "# Accuracy of the output \n",
    "print(accuracy_score(y_test,y_pred.round(),normalize = True)*100)"
   ]
  },
  {
   "cell_type": "code",
   "execution_count": 14,
   "metadata": {},
   "outputs": [
    {
     "name": "stdout",
     "output_type": "stream",
     "text": [
      "Tensor(\"Mean:0\", shape=(9000,), dtype=float32)\n"
     ]
    }
   ],
   "source": [
    "from keras.metrics import binary_accuracy\n",
    "print(binary_accuracy(y_test,y_pred))"
   ]
  },
  {
   "cell_type": "code",
   "execution_count": null,
   "metadata": {},
   "outputs": [],
   "source": []
  },
  {
   "cell_type": "code",
   "execution_count": null,
   "metadata": {},
   "outputs": [],
   "source": []
  }
 ],
 "metadata": {
  "kernelspec": {
   "display_name": "Python 3",
   "language": "python",
   "name": "python3"
  },
  "language_info": {
   "codemirror_mode": {
    "name": "ipython",
    "version": 3
   },
   "file_extension": ".py",
   "mimetype": "text/x-python",
   "name": "python",
   "nbconvert_exporter": "python",
   "pygments_lexer": "ipython3",
   "version": "3.6.4"
  }
 },
 "nbformat": 4,
 "nbformat_minor": 2
}
