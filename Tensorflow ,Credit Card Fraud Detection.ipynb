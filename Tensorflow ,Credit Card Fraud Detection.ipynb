{
 "cells": [
  {
   "cell_type": "code",
   "execution_count": 15,
   "metadata": {},
   "outputs": [],
   "source": [
    "#Importing the required libraries\n",
    "import tensorflow as tf\n",
    "import pandas as pd\n",
    "import numpy as np\n",
    "from sklearn.cross_validation import train_test_split"
   ]
  },
  {
   "cell_type": "code",
   "execution_count": 16,
   "metadata": {},
   "outputs": [
    {
     "data": {
      "text/html": [
       "<div>\n",
       "<style scoped>\n",
       "    .dataframe tbody tr th:only-of-type {\n",
       "        vertical-align: middle;\n",
       "    }\n",
       "\n",
       "    .dataframe tbody tr th {\n",
       "        vertical-align: top;\n",
       "    }\n",
       "\n",
       "    .dataframe thead th {\n",
       "        text-align: right;\n",
       "    }\n",
       "</style>\n",
       "<table border=\"1\" class=\"dataframe\">\n",
       "  <thead>\n",
       "    <tr style=\"text-align: right;\">\n",
       "      <th></th>\n",
       "      <th>Unnamed: 0</th>\n",
       "      <th>Time</th>\n",
       "      <th>V1</th>\n",
       "      <th>V2</th>\n",
       "      <th>V3</th>\n",
       "      <th>V4</th>\n",
       "      <th>V5</th>\n",
       "      <th>V6</th>\n",
       "      <th>V7</th>\n",
       "      <th>V8</th>\n",
       "      <th>...</th>\n",
       "      <th>V21</th>\n",
       "      <th>V22</th>\n",
       "      <th>V23</th>\n",
       "      <th>V24</th>\n",
       "      <th>V25</th>\n",
       "      <th>V26</th>\n",
       "      <th>V27</th>\n",
       "      <th>V28</th>\n",
       "      <th>Amount</th>\n",
       "      <th>Class</th>\n",
       "    </tr>\n",
       "  </thead>\n",
       "  <tbody>\n",
       "    <tr>\n",
       "      <th>0</th>\n",
       "      <td>1</td>\n",
       "      <td>0.0</td>\n",
       "      <td>-1.359807</td>\n",
       "      <td>-0.072781</td>\n",
       "      <td>2.536347</td>\n",
       "      <td>1.378155</td>\n",
       "      <td>-0.338321</td>\n",
       "      <td>0.462388</td>\n",
       "      <td>0.239599</td>\n",
       "      <td>0.098698</td>\n",
       "      <td>...</td>\n",
       "      <td>-0.018307</td>\n",
       "      <td>0.277838</td>\n",
       "      <td>-0.110474</td>\n",
       "      <td>0.066928</td>\n",
       "      <td>0.128539</td>\n",
       "      <td>-0.189115</td>\n",
       "      <td>0.133558</td>\n",
       "      <td>-0.021053</td>\n",
       "      <td>149.62</td>\n",
       "      <td>0</td>\n",
       "    </tr>\n",
       "    <tr>\n",
       "      <th>1</th>\n",
       "      <td>2</td>\n",
       "      <td>0.0</td>\n",
       "      <td>1.191857</td>\n",
       "      <td>0.266151</td>\n",
       "      <td>0.166480</td>\n",
       "      <td>0.448154</td>\n",
       "      <td>0.060018</td>\n",
       "      <td>-0.082361</td>\n",
       "      <td>-0.078803</td>\n",
       "      <td>0.085102</td>\n",
       "      <td>...</td>\n",
       "      <td>-0.225775</td>\n",
       "      <td>-0.638672</td>\n",
       "      <td>0.101288</td>\n",
       "      <td>-0.339846</td>\n",
       "      <td>0.167170</td>\n",
       "      <td>0.125895</td>\n",
       "      <td>-0.008983</td>\n",
       "      <td>0.014724</td>\n",
       "      <td>2.69</td>\n",
       "      <td>0</td>\n",
       "    </tr>\n",
       "  </tbody>\n",
       "</table>\n",
       "<p>2 rows × 32 columns</p>\n",
       "</div>"
      ],
      "text/plain": [
       "   Unnamed: 0  Time        V1        V2        V3        V4        V5  \\\n",
       "0           1   0.0 -1.359807 -0.072781  2.536347  1.378155 -0.338321   \n",
       "1           2   0.0  1.191857  0.266151  0.166480  0.448154  0.060018   \n",
       "\n",
       "         V6        V7        V8  ...         V21       V22       V23  \\\n",
       "0  0.462388  0.239599  0.098698  ...   -0.018307  0.277838 -0.110474   \n",
       "1 -0.082361 -0.078803  0.085102  ...   -0.225775 -0.638672  0.101288   \n",
       "\n",
       "        V24       V25       V26       V27       V28  Amount  Class  \n",
       "0  0.066928  0.128539 -0.189115  0.133558 -0.021053  149.62      0  \n",
       "1 -0.339846  0.167170  0.125895 -0.008983  0.014724    2.69      0  \n",
       "\n",
       "[2 rows x 32 columns]"
      ]
     },
     "execution_count": 16,
     "metadata": {},
     "output_type": "execute_result"
    }
   ],
   "source": [
    "# importing the dataset\n",
    "z = pd.read_csv('G:\\Data Sets\\CreditCard.csv')\n",
    "z.head(n=2)"
   ]
  },
  {
   "cell_type": "code",
   "execution_count": 45,
   "metadata": {},
   "outputs": [],
   "source": [
    "# Importing the data into feature and label variable\n",
    "A = z.drop(['Class'],axis =1)\n",
    "B =pd.get_dummies(z.Class)\n"
   ]
  },
  {
   "cell_type": "code",
   "execution_count": 46,
   "metadata": {},
   "outputs": [],
   "source": [
    "# Splitting the data into training and testing\n",
    "x_train,x_test,y_train,y_test = train_test_split(A,B,test_size = 0.3)"
   ]
  },
  {
   "cell_type": "code",
   "execution_count": 47,
   "metadata": {},
   "outputs": [],
   "source": [
    "# parameters\n",
    "lr_rate = 0.1\n",
    "epochs = 50\n",
    "batch_size = 1000"
   ]
  },
  {
   "cell_type": "code",
   "execution_count": 48,
   "metadata": {},
   "outputs": [],
   "source": [
    "# neural parameters\n",
    "num_input =31\n",
    "hid1 = 100\n",
    "hid2 = 100\n",
    "hid3 = 50\n",
    "hid4 = 25\n",
    "num_class = 2"
   ]
  },
  {
   "cell_type": "code",
   "execution_count": 49,
   "metadata": {},
   "outputs": [],
   "source": [
    "# Creating the placeholders\n",
    "X = tf.placeholder(tf.float32)\n",
    "Y = tf.placeholder(tf.float32)"
   ]
  },
  {
   "cell_type": "code",
   "execution_count": 50,
   "metadata": {},
   "outputs": [],
   "source": [
    "# defining the weight(W) and bias(B)\n",
    "W = {'h1':tf.Variable(tf.random_normal([num_input,hid1])),\n",
    "     'h2':tf.Variable(tf.random_normal([hid1,hid2])),\n",
    "     'h3':tf.Variable(tf.random_normal([hid2,hid3])),\n",
    "     'h4':tf.Variable(tf.random_normal([hid3,hid4])),\n",
    "    'out':tf.Variable(tf.random_normal([hid4,num_class]))}\n",
    "\n",
    "B = {'h1':tf.Variable(tf.random_normal([hid1])),\n",
    "     'h2':tf.Variable(tf.random_normal([hid2])),\n",
    "     'h3':tf.Variable(tf.random_normal([hid3])),\n",
    "     'h4':tf.Variable(tf.random_normal([hid4])),\n",
    "    'out':tf.Variable(tf.random_normal([num_class]))}"
   ]
  },
  {
   "cell_type": "code",
   "execution_count": 51,
   "metadata": {},
   "outputs": [],
   "source": [
    "# Defining the layers\n",
    "def neu_network(X,W,B):\n",
    "    l1 = tf.add(tf.matmul(X,W['h1']),B['h1'])\n",
    "    L1 = tf.nn.relu(l1)\n",
    "    \n",
    "    l2 = tf.add(tf.matmul(l1,W['h2']),B['h2'])\n",
    "    L2 = tf.nn.relu(l2)\n",
    "    \n",
    "    l3  = tf.add(tf.matmul(l2,W['h3']),B['h3'])\n",
    "    L3 = tf.nn.sigmoid(l3)\n",
    "    \n",
    "    l4 = tf.add(tf.matmul(l3,W['h4']),B['h4'])\n",
    "    L4 = tf.nn.sigmoid(l4)\n",
    "    \n",
    "    out_layer = tf.add(tf.matmul(l4,W['out']),B['out'])\n",
    "    return out_layer"
   ]
  },
  {
   "cell_type": "code",
   "execution_count": 52,
   "metadata": {},
   "outputs": [],
   "source": [
    "# calling the neu_network function \n",
    "y = neu_network(X,W,B)\n",
    "y_out = tf.nn.softmax(y)"
   ]
  },
  {
   "cell_type": "code",
   "execution_count": 53,
   "metadata": {},
   "outputs": [],
   "source": [
    "# Calculating loss function\n",
    "loss_fun = tf.reduce_mean(tf.nn.softmax_cross_entropy_with_logits(logits = y , labels = Y))\n",
    "\n",
    "# optimizer\n",
    "opt = tf.train.AdamOptimizer(learning_rate = lr_rate).minimize(loss_fun)\n",
    "\n",
    "correct_prediction = tf.equal(tf.argmax(y,1),tf.argmax(Y,1))\n",
    "Accuracy = tf.reduce_mean(tf.cast(correct_prediction,tf.float32))"
   ]
  },
  {
   "cell_type": "code",
   "execution_count": 54,
   "metadata": {},
   "outputs": [
    {
     "name": "stdout",
     "output_type": "stream",
     "text": [
      "Epoch: 0 -- Loss: 15119620.0 -- Accuracy: 0.9983347\n",
      "Epoch: 1 -- Loss: 23313752.0 -- Accuracy: 0.9983397\n",
      "Epoch: 2 -- Loss: 27320050.0 -- Accuracy: 0.9983397\n",
      "Epoch: 3 -- Loss: 27917134.0 -- Accuracy: 0.9983447\n",
      "Epoch: 4 -- Loss: 25296656.0 -- Accuracy: 0.9983397\n",
      "Epoch: 5 -- Loss: 19456370.0 -- Accuracy: 0.9983397\n",
      "Epoch: 6 -- Loss: 10304415.0 -- Accuracy: 0.9983347\n",
      "Epoch: 7 -- Loss: 1756452600.0 -- Accuracy: 0.0016552637\n",
      "Epoch: 8 -- Loss: 41908280.0 -- Accuracy: 0.9983347\n",
      "Epoch: 9 -- Loss: 81837520.0 -- Accuracy: 0.9983397\n",
      "Epoch: 10 -- Loss: 117886824.0 -- Accuracy: 0.9983397\n",
      "Epoch: 11 -- Loss: 150306420.0 -- Accuracy: 0.9983397\n",
      "Epoch: 12 -- Loss: 179230460.0 -- Accuracy: 0.9983397\n",
      "Epoch: 13 -- Loss: 204725540.0 -- Accuracy: 0.9983397\n",
      "Epoch: 14 -- Loss: 226824980.0 -- Accuracy: 0.9983347\n",
      "Epoch: 15 -- Loss: 245553400.0 -- Accuracy: 0.9983347\n",
      "Epoch: 16 -- Loss: 260943970.0 -- Accuracy: 0.9983347\n",
      "Epoch: 17 -- Loss: 273050080.0 -- Accuracy: 0.9983347\n",
      "Epoch: 18 -- Loss: 281952060.0 -- Accuracy: 0.9983347\n",
      "Epoch: 19 -- Loss: 287760450.0 -- Accuracy: 0.9983347\n",
      "Epoch: 20 -- Loss: 290616130.0 -- Accuracy: 0.9983347\n",
      "Epoch: 21 -- Loss: 290688220.0 -- Accuracy: 0.9983347\n",
      "Epoch: 22 -- Loss: 288170300.0 -- Accuracy: 0.9983347\n",
      "Epoch: 23 -- Loss: 283275700.0 -- Accuracy: 0.9983347\n",
      "Epoch: 24 -- Loss: 276232000.0 -- Accuracy: 0.9983297\n",
      "Epoch: 25 -- Loss: 267275310.0 -- Accuracy: 0.9983297\n",
      "Epoch: 26 -- Loss: 256644850.0 -- Accuracy: 0.9983247\n",
      "Epoch: 27 -- Loss: 244577620.0 -- Accuracy: 0.9983197\n",
      "Epoch: 28 -- Loss: 231303700.0 -- Accuracy: 0.9983197\n",
      "Epoch: 29 -- Loss: 217042160.0 -- Accuracy: 0.9983197\n",
      "Epoch: 30 -- Loss: 201998020.0 -- Accuracy: 0.9983197\n",
      "Epoch: 31 -- Loss: 186359380.0 -- Accuracy: 0.9983197\n",
      "Epoch: 32 -- Loss: 170295740.0 -- Accuracy: 0.9983146\n",
      "Epoch: 33 -- Loss: 153956460.0 -- Accuracy: 0.9983146\n",
      "Epoch: 34 -- Loss: 137470270.0 -- Accuracy: 0.9983146\n",
      "Epoch: 35 -- Loss: 120944840.0 -- Accuracy: 0.9983096\n",
      "Epoch: 36 -- Loss: 104466824.0 -- Accuracy: 0.9983096\n",
      "Epoch: 37 -- Loss: 88102160.0 -- Accuracy: 0.9983096\n",
      "Epoch: 38 -- Loss: 71896550.0 -- Accuracy: 0.9983096\n",
      "Epoch: 39 -- Loss: 55875804.0 -- Accuracy: 0.9983096\n",
      "Epoch: 40 -- Loss: 40046370.0 -- Accuracy: 0.9983096\n",
      "Epoch: 41 -- Loss: 24395624.0 -- Accuracy: 0.9983146\n",
      "Epoch: 42 -- Loss: 8892215.0 -- Accuracy: 0.9983447\n",
      "Epoch: 43 -- Loss: 4876399000.0 -- Accuracy: 0.0019110772\n",
      "Epoch: 44 -- Loss: 77113600.0 -- Accuracy: 0.9982946\n",
      "Epoch: 45 -- Loss: 144604000.0 -- Accuracy: 0.9982695\n",
      "Epoch: 46 -- Loss: 198820220.0 -- Accuracy: 0.9982595\n",
      "Epoch: 47 -- Loss: 241859150.0 -- Accuracy: 0.9982545\n",
      "Epoch: 48 -- Loss: 275270240.0 -- Accuracy: 0.9982394\n",
      "Epoch: 49 -- Loss: 300211420.0 -- Accuracy: 0.9982244\n"
     ]
    }
   ],
   "source": [
    "# creating global variable initializer\n",
    "init = tf.global_variables_initializer()\n",
    "sess = tf.Session()\n",
    "sess.run(init)\n",
    "\n",
    "# Training the data\n",
    "for epoch in range (epochs):\n",
    "    sess.run(opt,feed_dict = {X:x_train , Y:y_train})\n",
    "    lf = sess.run(loss_fun , feed_dict = {X:x_train , Y:y_train})\n",
    "    acc = sess.run(Accuracy, feed_dict = {X:x_train , Y:y_train})\n",
    "    print(\"Epoch:\",epoch,'--','Loss:',lf,'--','Accuracy:',acc)"
   ]
  },
  {
   "cell_type": "code",
   "execution_count": 59,
   "metadata": {},
   "outputs": [
    {
     "name": "stdout",
     "output_type": "stream",
     "text": [
      "Test Accuracy: 99.79167580604553\n"
     ]
    }
   ],
   "source": [
    "# predicting the test data and output accuracy of test data\n",
    "y_pred = sess.run(y, feed_dict = {X:x_test})\n",
    "\n",
    "print('Test Accuracy:',sess.run(Accuracy,feed_dict= {X:x_test , Y:y_test})*100)"
   ]
  },
  {
   "cell_type": "code",
   "execution_count": null,
   "metadata": {},
   "outputs": [],
   "source": []
  }
 ],
 "metadata": {
  "kernelspec": {
   "display_name": "Python 3",
   "language": "python",
   "name": "python3"
  },
  "language_info": {
   "codemirror_mode": {
    "name": "ipython",
    "version": 3
   },
   "file_extension": ".py",
   "mimetype": "text/x-python",
   "name": "python",
   "nbconvert_exporter": "python",
   "pygments_lexer": "ipython3",
   "version": "3.6.4"
  }
 },
 "nbformat": 4,
 "nbformat_minor": 2
}
